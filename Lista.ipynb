{
  "nbformat": 4,
  "nbformat_minor": 0,
  "metadata": {
    "colab": {
      "name": "Lista.ipynb",
      "provenance": []
    },
    "kernelspec": {
      "name": "python3",
      "display_name": "Python 3"
    },
    "language_info": {
      "name": "python"
    }
  },
  "cells": [
    {
      "cell_type": "code",
      "metadata": {
        "colab": {
          "base_uri": "https://localhost:8080/"
        },
        "id": "ZlLgSY2jndPM",
        "outputId": "e886e667-105e-4611-d34f-5e25334b7e93"
      },
      "source": [
        "Count = 0\n",
        "Pro = 0\n",
        "Número = float(input(' Ingrese los números de la lista para hallar su promedio, para finalizar, por favor ingrese un valor negativo: '))\n",
        "while Número>0:\n",
        "    Número = float(input(' Valor:'))\n",
        "    Pro = Pro+Número\n",
        "    Count = Count+1\n",
        "Media = Pro/Count\n",
        "print(' La media de la lista es: ',round(Media,2))"
      ],
      "execution_count": null,
      "outputs": [
        {
          "output_type": "stream",
          "text": [
            " Ingrese los números de la lista para hallar su promedio, para finalizar, por favor ingrese un valor negativo: 3\n",
            " Valor:2\n",
            " Valor:1\n",
            " Valor:2\n",
            " Valor:.5\n",
            " Valor:-5\n",
            " La media de la lista es:  0.1\n"
          ],
          "name": "stdout"
        }
      ]
    }
  ]
}