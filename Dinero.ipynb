{
  "nbformat": 4,
  "nbformat_minor": 0,
  "metadata": {
    "colab": {
      "name": "Dinero.ipynb",
      "provenance": []
    },
    "kernelspec": {
      "name": "python3",
      "display_name": "Python 3"
    },
    "language_info": {
      "name": "python"
    }
  },
  "cells": [
    {
      "cell_type": "code",
      "metadata": {
        "colab": {
          "base_uri": "https://localhost:8080/"
        },
        "id": "sDVIwi2AYH-x",
        "outputId": "b91eef21-907f-4c8e-ba5c-a717ef89ab9c"
      },
      "source": [
        "# Entradas\n",
        "Count = 1\n",
        "Dinero = float(input('Ingrese el dinero: '))\n",
        "Interés = float(input('Ingrese el porcentaje anual del interés: '))"
      ],
      "execution_count": null,
      "outputs": [
        {
          "output_type": "stream",
          "text": [
            "Ingrese el dinero: 1000\n",
            "Ingrese el porcentaje anual del interés: 5\n"
          ],
          "name": "stdout"
        }
      ]
    },
    {
      "cell_type": "code",
      "metadata": {
        "id": "TBzFW6TVYMm6"
      },
      "source": [
        "# Procesos\n",
        "t = (Interés/100)*Dinero\n",
        "while t<Dinero*2:\n",
        "    t = t+t\n",
        "    Count = Count+1"
      ],
      "execution_count": null,
      "outputs": []
    },
    {
      "cell_type": "code",
      "metadata": {
        "colab": {
          "base_uri": "https://localhost:8080/"
        },
        "id": "XD-75SQ4YOBu",
        "outputId": "bb8a5715-fab2-4629-d1ed-9c79891c3d34"
      },
      "source": [
        "# Salidas\n",
        "print(Count)"
      ],
      "execution_count": null,
      "outputs": [
        {
          "output_type": "stream",
          "text": [
            "7\n"
          ],
          "name": "stdout"
        }
      ]
    }
  ]
}