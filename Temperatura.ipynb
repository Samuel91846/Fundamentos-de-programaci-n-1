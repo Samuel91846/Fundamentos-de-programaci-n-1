{
  "nbformat": 4,
  "nbformat_minor": 0,
  "metadata": {
    "colab": {
      "name": "Temperatura.ipynb",
      "provenance": []
    },
    "kernelspec": {
      "name": "python3",
      "display_name": "Python 3"
    },
    "language_info": {
      "name": "python"
    }
  },
  "cells": [
    {
      "cell_type": "code",
      "metadata": {
        "colab": {
          "base_uri": "https://localhost:8080/"
        },
        "id": "dNFLns6MWEJ4",
        "outputId": "47a21569-58be-4017-f055-0e693238d133"
      },
      "source": [
        "# Entrada\n",
        "Temperatura_Celcius = float(input(' Indique la temperatura en grados Celcius... '))"
      ],
      "execution_count": null,
      "outputs": [
        {
          "output_type": "stream",
          "text": [
            " Indique la temperatura en grados Celcius... 40\n"
          ],
          "name": "stdout"
        }
      ]
    },
    {
      "cell_type": "code",
      "metadata": {
        "id": "PJV8pzWuWPz1"
      },
      "source": [
        "# Procesos\n",
        "Farenheit = (Temperatura_Celcius*1.8)+38\n",
        "Kelvin = Temperatura_Celcius+273.15"
      ],
      "execution_count": null,
      "outputs": []
    },
    {
      "cell_type": "code",
      "metadata": {
        "colab": {
          "base_uri": "https://localhost:8080/"
        },
        "id": "TXkUIH2vWei_",
        "outputId": "50dfec1c-b58d-47cb-ed0f-69fd528e7992"
      },
      "source": [
        "# Salidas\n",
        "print(' La temperatura en grados Fahrenheit es...',round(Farenheit,2))\n",
        "print(' La temperatura en grados Kelvin es... ',round(Kelvin,2))"
      ],
      "execution_count": null,
      "outputs": [
        {
          "output_type": "stream",
          "text": [
            " La temperatura en grados Fahrenheit es... 110.0\n",
            " La temperatura en grados Kelvin es...  313.15\n"
          ],
          "name": "stdout"
        }
      ]
    }
  ]
}