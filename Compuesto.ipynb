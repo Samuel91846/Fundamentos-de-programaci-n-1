{
  "nbformat": 4,
  "nbformat_minor": 0,
  "metadata": {
    "colab": {
      "name": "Compuesto.ipynb",
      "provenance": []
    },
    "kernelspec": {
      "name": "python3",
      "display_name": "Python 3"
    },
    "language_info": {
      "name": "python"
    }
  },
  "cells": [
    {
      "cell_type": "code",
      "metadata": {
        "colab": {
          "base_uri": "https://localhost:8080/"
        },
        "id": "bZaUpHMv8CdP",
        "outputId": "cc02da64-8ecb-4d0e-c0dd-0da9cf54a7ca"
      },
      "source": [
        "# Entrada\n",
        "Valor = float(input(' Ingrese un valor entero de carácter positivo... '))\n",
        "Valor = int(Valor)\n",
        "while Valor<0:\n",
        "    Valor = float(input(' Ingrese un valor entero de carácter positivo, de lo contrario, no será posible la acción... '))\n",
        "    Valor = int(Valor)"
      ],
      "execution_count": null,
      "outputs": [
        {
          "output_type": "stream",
          "text": [
            " Ingrese un valor entero de carácter positivo... 7\n"
          ],
          "name": "stdout"
        }
      ]
    },
    {
      "cell_type": "code",
      "metadata": {
        "id": "OudoI7wa8NTs"
      },
      "source": [
        "# Proceso\n",
        "X = Valor%2\n",
        "Y = Valor%3\n",
        "Z = Valor%5"
      ],
      "execution_count": null,
      "outputs": []
    },
    {
      "cell_type": "code",
      "metadata": {
        "colab": {
          "base_uri": "https://localhost:8080/"
        },
        "id": "mUyyNT3W8QAx",
        "outputId": "b20cba92-a892-47c1-e808-4675a1c56b1f"
      },
      "source": [
        "# Salida\n",
        "if X!=0 and Y!=0 and Z!=0:\n",
        "    print(' El valor es  primo...')\n",
        "else:\n",
        "    print('El valor es compuesto...')"
      ],
      "execution_count": null,
      "outputs": [
        {
          "output_type": "stream",
          "text": [
            " El valor es  primo...\n"
          ],
          "name": "stdout"
        }
      ]
    }
  ]
}