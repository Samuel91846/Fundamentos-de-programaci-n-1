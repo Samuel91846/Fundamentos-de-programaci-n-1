{
  "nbformat": 4,
  "nbformat_minor": 0,
  "metadata": {
    "colab": {
      "name": "Ecuación.ipynb",
      "provenance": []
    },
    "kernelspec": {
      "name": "python3",
      "display_name": "Python 3"
    },
    "language_info": {
      "name": "python"
    }
  },
  "cells": [
    {
      "cell_type": "code",
      "metadata": {
        "colab": {
          "base_uri": "https://localhost:8080/"
        },
        "id": "KszkXVGSj5fH",
        "outputId": "27a38eff-83d1-4139-b78c-6c760c709c4c"
      },
      "source": [
        "# Entradas\n",
        "print(' Recuerde...  A^2-2B-C=0' )\n",
        "A = int(input(' Registre la variable A correspondiente a A^2: '))\n",
        "B = int(input(' Registre la variable B correspondiente a -2B: '))\n",
        "C = int(input(' Registre la variable C correspondiente a -C: '))"
      ],
      "execution_count": 22,
      "outputs": [
        {
          "output_type": "stream",
          "text": [
            " Recuerde...  A^2-2B-C=0\n",
            " Registre la variable A correspondiente a A^2: 2\n",
            " Registre la variable B correspondiente a -2B: 3\n",
            " Registre la variable C correspondiente a -C: 1\n"
          ],
          "name": "stdout"
        }
      ]
    },
    {
      "cell_type": "code",
      "metadata": {
        "id": "QUSCsE96l2e1"
      },
      "source": [
        "# Procesos\n",
        "Res1 = (-B+((B**2)-4*A*C)**(1/2))/2*A\n",
        "Res2 = (-B-((B**2)-4*A*C)**(1/2))/2*A"
      ],
      "execution_count": 23,
      "outputs": []
    },
    {
      "cell_type": "code",
      "metadata": {
        "colab": {
          "base_uri": "https://localhost:8080/"
        },
        "id": "vY6YdXEsl4h0",
        "outputId": "15008be9-5e37-43ad-ca8f-3e78d46cb371"
      },
      "source": [
        "# Salidas\n",
        "print(Res1)\n",
        "print(Res2)"
      ],
      "execution_count": 24,
      "outputs": [
        {
          "output_type": "stream",
          "text": [
            "-2.0\n",
            "-4.0\n"
          ],
          "name": "stdout"
        }
      ]
    }
  ]
}