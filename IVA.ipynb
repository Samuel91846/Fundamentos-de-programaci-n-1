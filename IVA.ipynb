{
  "nbformat": 4,
  "nbformat_minor": 0,
  "metadata": {
    "colab": {
      "name": "IVA.ipynb",
      "provenance": []
    },
    "kernelspec": {
      "name": "python3",
      "display_name": "Python 3"
    },
    "language_info": {
      "name": "python"
    }
  },
  "cells": [
    {
      "cell_type": "code",
      "metadata": {
        "colab": {
          "base_uri": "https://localhost:8080/"
        },
        "id": "QW5zhRRKjZwo",
        "outputId": "40bdefac-d418-401b-e79f-60b779cd4009"
      },
      "source": [
        "Monto_Neto = int(input(' Ingrese el monto neto del producto... '))"
      ],
      "execution_count": null,
      "outputs": [
        {
          "output_type": "stream",
          "text": [
            " Ingrese el monto neto del producto... 10000\n"
          ],
          "name": "stdout"
        }
      ]
    },
    {
      "cell_type": "code",
      "metadata": {
        "id": "wLSg6xHHjlHL"
      },
      "source": [
        "Descuento = ((Monto_Neto/100)*5)\n",
        "Valor_Descontado = Monto_Neto-Descuento\n",
        "IVA = ((Valor_Descontado/100)*19)\n",
        "Valor_Final = Valor_Descontado+IVA"
      ],
      "execution_count": null,
      "outputs": []
    },
    {
      "cell_type": "code",
      "metadata": {
        "colab": {
          "base_uri": "https://localhost:8080/"
        },
        "id": "MAwDkDBVjmgK",
        "outputId": "2c024911-cd2f-4f8f-d21c-840ed70ac8cd"
      },
      "source": [
        "print('Usted tiene un descuento de ',round(Descuento),' en el prodcuto que compró.')\n",
        "print('El IVA de su compra es de ',round(IVA))\n",
        "print('El valor total de su compra es ',round(Valor_Final))"
      ],
      "execution_count": null,
      "outputs": [
        {
          "output_type": "stream",
          "text": [
            "Usted tiene un descuento de  500  en el prodcuto que compró.\n",
            "El IVA de su compra es de  1805\n",
            "El valor total de su compra es  11305\n"
          ],
          "name": "stdout"
        }
      ]
    }
  ]
}