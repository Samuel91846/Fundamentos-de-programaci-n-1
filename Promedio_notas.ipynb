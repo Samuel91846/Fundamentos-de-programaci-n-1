{
  "nbformat": 4,
  "nbformat_minor": 0,
  "metadata": {
    "colab": {
      "name": "Promedio notas.ipynb",
      "provenance": []
    },
    "kernelspec": {
      "name": "python3",
      "display_name": "Python 3"
    }
  },
  "cells": [
    {
      "cell_type": "code",
      "metadata": {
        "id": "KWuWup_fhEOO"
      },
      "source": [
        "nota1=int(input(\"Ingrese primer nota:\"))\n",
        "nota2=int(input(\"Ingrese segunda nota:\"))\n",
        "nota3=int(input(\"Ingrese tercer nota:\"))\n",
        "prom=(nota1+nota2+nota3)/3\n",
        "if prom>=7:\n",
        "    print(\"Promocionado\")\n",
        "else:\n",
        "    if prom>=4:\n",
        "        print(\"Regular\")\n",
        "    else:\n",
        "        print(\"Reprobado\")"
      ],
      "execution_count": null,
      "outputs": []
    }
  ]
}