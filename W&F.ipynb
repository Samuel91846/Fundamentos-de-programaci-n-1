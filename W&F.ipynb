{
  "nbformat": 4,
  "nbformat_minor": 0,
  "metadata": {
    "colab": {
      "name": "W&F.ipynb",
      "provenance": []
    },
    "kernelspec": {
      "name": "python3",
      "display_name": "Python 3"
    }
  },
  "cells": [
    {
      "cell_type": "markdown",
      "metadata": {
        "id": "vx8rjdQ6ReTr"
      },
      "source": [
        "While y for"
      ]
    },
    {
      "cell_type": "code",
      "metadata": {
        "colab": {
          "base_uri": "https://localhost:8080/"
        },
        "id": "rVPy0PP-jcey",
        "outputId": "6dd5f37e-ec7a-4477-b93d-078ab29e867e"
      },
      "source": [
        "#Entrada.\n",
        "\n",
        "N =int (input (' Ingrese el número de estudiantes: '))\n",
        "\n",
        "z=list(range(N))\n",
        "C =1\n",
        "A =0\n",
        "R =0\n",
        "S =0\n",
        "AS=0\n",
        "RS=0\n",
        "MX=0\n",
        "MN=5\n",
        "#Ciclo\n",
        "for i in z:\n",
        "    # Nombre del estudiante\n",
        "    NE = input(' Ingrese el nombre del estudiante: ')\n",
        "    #Notas del estudiante\n",
        "    N1 =float(input(' Ingrese la nota del primer parcial: '))\n",
        "    N2 =float(input(' Ingrese la nota del segundo parcial: '))\n",
        "    N3 =float(input(' Ingrese la nota del tercer parcial: '))\n",
        "    # Nota definitiva del estudiante\n",
        "    DEFE=(N1+N2+N3)/3\n",
        "    print('La definitiva del estudiante',NE,' es: ',round(DEFE,1))\n",
        "    # Cálculos x\n",
        "    if DEFE>=3.0:\n",
        "        A=A+1\n",
        "        AS=AS+DEFE\n",
        "    else:\n",
        "        R=R+1\n",
        "        RS=RS+DEFE\n",
        "    if DEFE>MX:\n",
        "        MX=DEFE\n",
        "    if DEFE<MN:\n",
        "        MN=DEFE\n",
        "    C=C+1\n",
        "    S=S+DEFE\n",
        "PRO =S/N\n",
        "# Resultados\n",
        "print( 'La cantidad de estudiantes que aprobaron fue: ',A)\n",
        "print(' La cantidad de estudiantes que NO aprobaron fue: ',R)\n",
        "print(' El promedio que tuvo el grupo es: ',round(PRO,1))\n",
        "if A>0:\n",
        "    PDLQA=AS/A\n",
        "    print(' El promedio de los estudiantes que aprobaron es: ',round(PDLQA,1))\n",
        "if R>0:\n",
        "    PDLQR=RS/R\n",
        "    print(' El promedio de los estudiantes que NO aprobaron es: ',round(PDLQR,1))\n",
        "for i in [MX]:\n",
        "    print(' La nota más alta es: ',round(i,1))\n",
        "for i in [MN]:\n",
        "    print(' La nota más baja es:',round(i,1))"
      ],
      "execution_count": null,
      "outputs": [
        {
          "output_type": "stream",
          "text": [
            " Ingrese el número de estudiantes: 3\n",
            " Ingrese el nombre del estudiante: Samuel\n",
            " Ingrese la nota del primer parcial: 2.9\n",
            " Ingrese la nota del segundo parcial: 2.9\n",
            " Ingrese la nota del tercer parcial: 2.0\n",
            "La definitiva del estudiante Samuel  es:  2.6\n",
            " Ingrese el nombre del estudiante: David\n",
            " Ingrese la nota del primer parcial: 3.0\n",
            " Ingrese la nota del segundo parcial: 2.9\n",
            " Ingrese la nota del tercer parcial: 3.1\n",
            "La definitiva del estudiante David  es:  3.0\n",
            " Ingrese el nombre del estudiante: Díaz\n",
            " Ingrese la nota del primer parcial: 4.5\n",
            " Ingrese la nota del segundo parcial: 4.6\n",
            " Ingrese la nota del tercer parcial: 4.7\n",
            "La definitiva del estudiante Díaz  es:  4.6\n",
            "La cantidad de estudiantes que aprobaron fue:  2\n",
            " La cantidad de estudiantes que NO aprobaron fue:  1\n",
            " El promedio que tuvo el grupo es:  3.4\n",
            " El promedio de los estudiantes que aprobaron es:  3.8\n",
            " El promedio de los estudiantes que NO aprobaron es:  2.6\n",
            " La nota más alta es:  4.6\n",
            " La nota más baja es: 2.6\n"
          ],
          "name": "stdout"
        }
      ]
    }
  ]
}