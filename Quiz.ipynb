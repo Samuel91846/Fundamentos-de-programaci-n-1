{
  "nbformat": 4,
  "nbformat_minor": 0,
  "metadata": {
    "colab": {
      "name": "Quiz.ipynb",
      "provenance": []
    },
    "kernelspec": {
      "name": "python3",
      "display_name": "Python 3"
    },
    "language_info": {
      "name": "python"
    }
  },
  "cells": [
    {
      "cell_type": "code",
      "metadata": {
        "id": "5a1MTNrU_FF5"
      },
      "source": [
        "#Entradas\n",
        "Mayor_Menor = int(input('Ingrese \"1\" para organizarlo de mayor a menor o \"2\" para organizarlos de menor a mayor... '))\n",
        "A = int(input(' Digite el número A... '))\n",
        "B = int(input(' Digite el número B... '))\n",
        "C = int(input(' Digite el número C... '))\n"
      ],
      "execution_count": null,
      "outputs": []
    },
    {
      "cell_type": "code",
      "metadata": {
        "colab": {
          "base_uri": "https://localhost:8080/"
        },
        "id": "nNJG7glf_iKr",
        "outputId": "6ab35b10-6ebd-405a-c17d-ec715ea73a99"
      },
      "source": [
        "# Proceso y salida\n",
        "if Mayor_Menor==1:\n",
        "    if A==B and A>C:\n",
        "        print(' A y B son iguales a... ',A)\n",
        "        print('C=',C)\n",
        "    elif A==C and A>B:\n",
        "        print(' A y C son iguales a... ',A)\n",
        "        print('B=',B)\n",
        "    elif C==B and C>A:\n",
        "        print(' C y B son iguales a... ',C)\n",
        "        print(A)\n",
        "    elif A==B and A<C:\n",
        "        print('C=',C)\n",
        "        print(' A y B son iguales a... ',A)\n",
        "    elif A==C and A<B:\n",
        "        print('B=',B)\n",
        "        print(' A y C son iguales a... ',A)\n",
        "    elif C==B and C<A:\n",
        "        print('A=',A)\n",
        "        print(' C y B son iguales a... ',C)\n",
        "    elif A>B and A>C:\n",
        "        print('A=',A)\n",
        "        if B>C:\n",
        "            print('B=',B)\n",
        "            print('C=',C)\n",
        "        else:\n",
        "            print('C=',C)\n",
        "            print('B=',B)\n",
        "    elif B>A and B>C:\n",
        "        print('B=',B)\n",
        "        if A>C:\n",
        "            print('A=',A)\n",
        "            print('C=',C)\n",
        "        else:\n",
        "            print('C=',C)\n",
        "            print('A=',A)\n",
        "    elif C>A and C>B:\n",
        "        print('C=',C)\n",
        "        if A>B:\n",
        "            print('A=',A)\n",
        "            print('B=',B)\n",
        "        else:\n",
        "            print('B=',B)\n",
        "            print('B=',A)\n",
        "    elif A==B and A==C:\n",
        "        print(' Los tres números son iguales... ')\n",
        "# Valores #2\n",
        "elif Mayor_Menor==2:\n",
        "    if A==B and A<C:\n",
        "        print(' A y B son iguales a... ',A)\n",
        "        print('C=',C)\n",
        "    elif A==C and A<B:\n",
        "        print(' A y C son iguales a... ',A)\n",
        "        print('B=',B)\n",
        "    elif C==B and C<A:\n",
        "        print(' C y B son iguales a... ',C)\n",
        "        print('A=',A)\n",
        "    elif A==B and A>C:\n",
        "        print('C=',C)\n",
        "        print(' A y B son iguales a... ',A)\n",
        "    elif A==C and A>B:\n",
        "        print('B=',B)\n",
        "        print(' A y C son iguales a... ',A)\n",
        "    elif C==B and C>A:\n",
        "        print('A=',A)\n",
        "        print(' C y B son iguales a... ',C)\n",
        "    elif A<B and A<C:\n",
        "        print('A=',A)\n",
        "        if B<C:\n",
        "            print('B=',B)\n",
        "            print('C=',C)\n",
        "        else:\n",
        "            print('C=',C)\n",
        "            print('B=',B)\n",
        "    elif B<A and B<C:\n",
        "        print('B=',B)\n",
        "        if A<C:\n",
        "            print('A=',A)\n",
        "            print('C=',C)\n",
        "        else:\n",
        "            print('C=',C)\n",
        "            print('A=',A)\n",
        "    elif C<A and C<B:\n",
        "        print('C=',C)\n",
        "        if A<B:\n",
        "            print('A=',A)\n",
        "            print('B=',B)\n",
        "        else:\n",
        "            print('B=',B)\n",
        "            print(A)\n",
        "    elif A==B and A==C:\n",
        "        print(' Los tres números son iguales... ')"
      ],
      "execution_count": null,
      "outputs": [
        {
          "output_type": "stream",
          "text": [
            "C= 4\n",
            "B= 3\n",
            "B= 2\n"
          ],
          "name": "stdout"
        }
      ]
    }
  ]
}