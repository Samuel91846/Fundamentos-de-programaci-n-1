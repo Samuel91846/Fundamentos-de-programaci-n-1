{
  "nbformat": 4,
  "nbformat_minor": 0,
  "metadata": {
    "colab": {
      "name": "Notas.ipynb",
      "provenance": []
    },
    "kernelspec": {
      "name": "python3",
      "display_name": "Python 3"
    },
    "language_info": {
      "name": "python"
    }
  },
  "cells": [
    {
      "cell_type": "code",
      "metadata": {
        "colab": {
          "base_uri": "https://localhost:8080/"
        },
        "id": "LhYglzde06iJ",
        "outputId": "ec3452c8-457b-4be3-ea7b-9fa8aa9cf33d"
      },
      "source": [
        "# Nombre\n",
        "Nombre = input(' Ingrese su nombre... ')"
      ],
      "execution_count": null,
      "outputs": [
        {
          "output_type": "stream",
          "text": [
            " Ingrese su nombre... Samuel\n"
          ],
          "name": "stdout"
        }
      ]
    },
    {
      "cell_type": "code",
      "metadata": {
        "colab": {
          "base_uri": "https://localhost:8080/"
        },
        "id": "aJTq0qkT1Pf1",
        "outputId": "f3bd75b9-aee6-4d5a-f9e9-6c557f40a8b9"
      },
      "source": [
        "# Variable de primer parcial\n",
        "Primer_Parcial = float(input(' Ingrese la nota de su primer parcial... '))\n",
        "while (Primer_Parcial<0)or(Primer_Parcial>5):\n",
        "    Primer_Parcial = float(input(' Recuerde, la nota mínima es 0 mientras que la máxima es 5... '))"
      ],
      "execution_count": null,
      "outputs": [
        {
          "output_type": "stream",
          "text": [
            " Ingrese la nota de su primer parcial... 3\n"
          ],
          "name": "stdout"
        }
      ]
    },
    {
      "cell_type": "code",
      "metadata": {
        "colab": {
          "base_uri": "https://localhost:8080/"
        },
        "id": "ItJs-LaB1RwG",
        "outputId": "6fa07624-0827-41fe-ef22-92d838b63874"
      },
      "source": [
        "#Variable de segundo parcial\n",
        "Segundo_Parcial = float(input(' Ingrese la nota de su segundo parcial... '))\n",
        "while (Segundo_Parcial<0)or(Segundo_Parcial>5):\n",
        "    Segundo_Parcial = float(input(' Recuerde, la nota mínima es 0 mientras que la máxima es 5... '))"
      ],
      "execution_count": null,
      "outputs": [
        {
          "output_type": "stream",
          "text": [
            " Ingrese la nota de su segundo parcial... 2.3\n"
          ],
          "name": "stdout"
        }
      ]
    },
    {
      "cell_type": "code",
      "metadata": {
        "colab": {
          "base_uri": "https://localhost:8080/"
        },
        "id": "Zn2kl-RI1TgQ",
        "outputId": "9ef32fd2-b193-480a-abf5-b6dfa4828d50"
      },
      "source": [
        "\n",
        "#Variable de tercer parcial\n",
        "Tercer_Parcial = float(input(' Ingrese la nota de su tercer parcial... '))\n",
        "while (Tercer_Parcial<0)or(Tercer_Parcial>5):\n",
        "    Tercer_Parcial = float(input(' Recuerde, la nota mínima es 0 mientras que la máxima es 5... '))"
      ],
      "execution_count": null,
      "outputs": [
        {
          "output_type": "stream",
          "text": [
            " Ingrese la nota de su tercer parcial... 3.1\n"
          ],
          "name": "stdout"
        }
      ]
    },
    {
      "cell_type": "code",
      "metadata": {
        "colab": {
          "base_uri": "https://localhost:8080/"
        },
        "id": "Mg8-29xn1U1f",
        "outputId": "3dec08bc-42de-49e3-c713-aa4943af4343"
      },
      "source": [
        "#Variable de inasistencias\n",
        "Inasistencias = int(input(' Ingrese la cantidad de inasistencias que ha tenido... '))"
      ],
      "execution_count": null,
      "outputs": [
        {
          "output_type": "stream",
          "text": [
            " Ingrese la cantidad de inasistencias que ha tenido... 13\n"
          ],
          "name": "stdout"
        }
      ]
    },
    {
      "cell_type": "code",
      "metadata": {
        "colab": {
          "base_uri": "https://localhost:8080/"
        },
        "id": "B_LerlWx1Wpn",
        "outputId": "0c136043-0053-4b4f-fe97-8861e26dd1fa"
      },
      "source": [
        "#Entrega de resultado\n",
        "Porcentaje=((Primer_Parcial/100)*35)+((Segundo_Parcial/100)*35)+((Tercer_Parcial/100)*30)\n",
        "if (Porcentaje>=3.0)and(Inasistencias<=12):\n",
        "    print(' Usted ha aprobado en la parte académica, su nota final es: ',round(Porcentaje,2),' y presentó ',Inasistencias,' inasistencias. Felicidades!!!')\n",
        "elif (Porcentaje<3.0)and(Inasistencias<=12):\n",
        "    print(' Usted ha reprobado en la parte académica, su nota final es: ',round(Porcentaje,2),' y presentó ',Inasistencias,' inasistencias, lo sentimos... Reprueba debido a sus notas ')\n",
        "elif (Porcentaje>=3.0)and(Inasistencias>12):\n",
        "    print(' Usted ha aprobado en la parte académica, su nota final es: ',round(Porcentaje,2),' pero tiene ',Inasistencias,' inasistencias, lo sentimos... Reprueba debido a sus inasistencias ')\n",
        "elif (Porcentaje<3.0)and(Inasistencias>12):\n",
        "    print(' Usted ha reprobado en la parte académica, su nota final es: ',round(Porcentaje,2),' además tiene ',Inasistencias,' inasistencias, ha reprobado por inasistencias y por sus notas, lo esperamos el próximo año <3 ')"
      ],
      "execution_count": null,
      "outputs": [
        {
          "output_type": "stream",
          "text": [
            " Usted ha reprobado en la parte académica, su nota final es:  2.79  además tiene  13  inasistencias, ha reprobado por inasistencias y por sus notas, lo esperamos el próximo año <3 \n"
          ],
          "name": "stdout"
        }
      ]
    }
  ]
}