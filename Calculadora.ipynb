{
  "nbformat": 4,
  "nbformat_minor": 0,
  "metadata": {
    "colab": {
      "name": "Calculadora.ipynb",
      "provenance": []
    },
    "kernelspec": {
      "name": "python3",
      "display_name": "Python 3"
    },
    "language_info": {
      "name": "python"
    }
  },
  "cells": [
    {
      "cell_type": "code",
      "metadata": {
        "colab": {
          "base_uri": "https://localhost:8080/"
        },
        "id": "l8lTbSCpEhz1",
        "outputId": "c1a6db0c-e08d-45f9-85bb-c5012eedb712"
      },
      "source": [
        "# Entrada\n",
        "A = float(input(' Ingrese un valor A... '))\n",
        "B = float(input(' Ingrese un valor B... '))\n",
        "Operación = int(input(' Porfavor preste atención a la indicación. Para sumar, marque \"1\" Para restar marque \"2\" Para multiplicar marque \"3\" Para dividir marque \"4\". Gracias.'))"
      ],
      "execution_count": null,
      "outputs": [
        {
          "output_type": "stream",
          "text": [
            " Ingrese un valor A... 2\n",
            " Ingrese un valor B... 2\n",
            " Porfavor preste atención a la indicación. Para sumar, marque \"1\" Para restar marque \"2\" Para multiplicar marque \"3\" Para dividir marque \"4\". Gracias.4\n"
          ],
          "name": "stdout"
        }
      ]
    },
    {
      "cell_type": "code",
      "metadata": {
        "colab": {
          "base_uri": "https://localhost:8080/"
        },
        "id": "nGxboEqDIVTI",
        "outputId": "a2531c30-c611-47d3-84ad-e7f25e6fe2dd"
      },
      "source": [
        "# Proceso y salida\n",
        "if Operación==1:\n",
        "  Resultado_Suma = A+B\n",
        "  print(Resultado_Suma)\n",
        "# Marcó 2\n",
        "elif Operación==2:\n",
        "  Resultado_Resta = A-B\n",
        "  print(Resultado_Resta)\n",
        "# Marcó 3\n",
        "elif Operación==3:\n",
        "  Resultado_Multiplicaión = A*B\n",
        "  print(Resultado_Multiplicaión)\n",
        "# Marcó 4\n",
        "elif Operación==4:\n",
        "  Resultado_División = A/B\n",
        "  print(Resultado_División)"
      ],
      "execution_count": null,
      "outputs": [
        {
          "output_type": "stream",
          "text": [
            "1.0\n"
          ],
          "name": "stdout"
        }
      ]
    }
  ]
}