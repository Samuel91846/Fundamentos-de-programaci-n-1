{
  "nbformat": 4,
  "nbformat_minor": 0,
  "metadata": {
    "colab": {
      "name": "Newtons.ipynb",
      "provenance": []
    },
    "kernelspec": {
      "name": "python3",
      "display_name": "Python 3"
    },
    "language_info": {
      "name": "python"
    }
  },
  "cells": [
    {
      "cell_type": "code",
      "metadata": {
        "colab": {
          "base_uri": "https://localhost:8080/"
        },
        "id": "GMmuZJk0fiAJ",
        "outputId": "de5e8bb7-c615-427f-9b35-b82017fccde8"
      },
      "source": [
        "# Explicación\n",
        "Gravedad = 9.8\n",
        "print(' Se calculará la fuerza necesaria para mover un objeto en una superficie con fricción, tomando en cuenta su masa y el coeficiente de rozamiento ')"
      ],
      "execution_count": null,
      "outputs": [
        {
          "output_type": "stream",
          "text": [
            " Se calculará la fuerza necesaria para mover un objeto en una superficie con fricción, tomando en cuenta su masa y el coeficiente de rozamiento \n"
          ],
          "name": "stdout"
        }
      ]
    },
    {
      "cell_type": "code",
      "metadata": {
        "colab": {
          "base_uri": "https://localhost:8080/"
        },
        "id": "UDvGk-HYfYPW",
        "outputId": "d7c44e56-5cd5-43d5-da7b-971b200e55e6"
      },
      "source": [
        "# Entrada\n",
        "Masa = float(input(' Digite la masa en Kg del objeto... '))\n",
        "Fuerza_Rozamiento = float(input(' Digite el coeficiente de rozamiento... '))"
      ],
      "execution_count": null,
      "outputs": [
        {
          "output_type": "stream",
          "text": [
            " Digite la masa en Kg del objeto... 3\n",
            " Digite el coeficiente de rozamiento... 2\n"
          ],
          "name": "stdout"
        }
      ]
    },
    {
      "cell_type": "code",
      "metadata": {
        "id": "3H1cyZmmfeyF"
      },
      "source": [
        "# Proceso\n",
        "Peso = Masa*Gravedad\n",
        "Fricción = Fuerza_Rozamiento*Masa*Gravedad\n",
        "Newtons_A = Peso*0.102\n",
        "Newtons_B = Fricción*0.102"
      ],
      "execution_count": null,
      "outputs": []
    },
    {
      "cell_type": "code",
      "metadata": {
        "colab": {
          "base_uri": "https://localhost:8080/"
        },
        "id": "35vl-BkTfgXW",
        "outputId": "9d49ee5c-c05d-423f-f071-676a74410ab6"
      },
      "source": [
        "# Salida\n",
        "print(' El objeto realiza una fuerza correspondiente a: ',round(Peso,2),'Nw o',round(Newtons_A,2),'kg-fuerza ')\n",
        "print(' Para moverlo, será necesaria una fuerza de:',round(Fricción,2),'Nw o',round(Newtons_B,2),'kg-fuerza ')"
      ],
      "execution_count": null,
      "outputs": [
        {
          "output_type": "stream",
          "text": [
            " El objeto realiza una fuerza correspondiente a:  29.4 Nw o 3.0 kg-fuerza \n",
            " Para moverlo, será necesaria una fuerza de: 58.8 Nw o 6.0 kg-fuerza \n"
          ],
          "name": "stdout"
        }
      ]
    }
  ]
}