{
  "nbformat": 4,
  "nbformat_minor": 0,
  "metadata": {
    "colab": {
      "name": "Empleados y tiempo.ipynb",
      "provenance": []
    },
    "kernelspec": {
      "name": "python3",
      "display_name": "Python 3"
    },
    "language_info": {
      "name": "python"
    }
  },
  "cells": [
    {
      "cell_type": "code",
      "metadata": {
        "colab": {
          "base_uri": "https://localhost:8080/"
        },
        "id": "vG9-MFsmZrBq",
        "outputId": "282d8c82-42c7-4e33-df21-ce417185e383"
      },
      "source": [
        "Número_Empleados = int(input(' Ingrese el número de empleados: '))\n",
        "Tiempo_Tardado = float(input(' Ingrese el tiempo en horas que tardan los empleados para culminar el encargo: '))\n",
        "Tiempo_Estimado = float(input(' Ingrese el tiempo en horas que se espera que tarden: '))"
      ],
      "execution_count": null,
      "outputs": [
        {
          "output_type": "stream",
          "text": [
            " Ingrese el número de empleados: 4\n",
            " Ingrese el tiempo en horas que tardan los empleados para culminar el encargo: 2\n",
            " Ingrese el tiempo en horas que se espera que tarden: 1\n"
          ],
          "name": "stdout"
        }
      ]
    },
    {
      "cell_type": "code",
      "metadata": {
        "id": "cNL-fwDkbtd4"
      },
      "source": [
        "Número_NuevoEmpleados = (Número_Empleados/Tiempo_Estimado)*Tiempo_Tardado\n",
        "Número_NuevoEmpleados = int(Número_NuevoEmpleados)"
      ],
      "execution_count": null,
      "outputs": []
    },
    {
      "cell_type": "code",
      "metadata": {
        "colab": {
          "base_uri": "https://localhost:8080/"
        },
        "id": "FfoqIVLybu12",
        "outputId": "220e78bf-5af4-45c9-f57d-daf946d44c4a"
      },
      "source": [
        "print(' Se necesitan ',Número_NuevoEmpleados,' empleados para hacer el trabajo en',Tiempo_Estimado,'horas')"
      ],
      "execution_count": null,
      "outputs": [
        {
          "output_type": "stream",
          "text": [
            " Se necesitan  8  empleados para hacer el trabajo en 1.0 horas\n"
          ],
          "name": "stdout"
        }
      ]
    }
  ]
}