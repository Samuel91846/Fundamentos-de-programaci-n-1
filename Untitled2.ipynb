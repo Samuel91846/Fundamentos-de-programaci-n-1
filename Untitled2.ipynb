{
  "nbformat": 4,
  "nbformat_minor": 0,
  "metadata": {
    "colab": {
      "name": "Untitled2.ipynb",
      "provenance": []
    },
    "kernelspec": {
      "name": "python3",
      "display_name": "Python 3"
    }
  },
  "cells": [
    {
      "cell_type": "markdown",
      "metadata": {
        "id": "YHF5oyb8ul8O"
      },
      "source": [
        "# Cálculo de la combinatoria de los números"
      ]
    },
    {
      "cell_type": "code",
      "metadata": {
        "id": "0vs6S7FnscpK"
      },
      "source": [
        "import math"
      ],
      "execution_count": null,
      "outputs": []
    },
    {
      "cell_type": "code",
      "metadata": {
        "id": "2GpSmp7yv4Hf"
      },
      "source": [
        "fact_M = 1\n",
        "fact_N = 1\n",
        "fact_MN = 1"
      ],
      "execution_count": null,
      "outputs": []
    },
    {
      "cell_type": "code",
      "metadata": {
        "colab": {
          "base_uri": "https://localhost:8080/"
        },
        "id": "fltdsenHufjZ",
        "outputId": "1c51d059-ba39-4fbd-c652-b530d79cb036"
      },
      "source": [
        "M = int(input(' Digíte el valor M: '))\n",
        "N = int(input(' Digíte el valor N: '))\n"
      ],
      "execution_count": null,
      "outputs": [
        {
          "output_type": "stream",
          "text": [
            " Digíte el valor M: 4\n",
            " Digíte el valor N: 2\n"
          ],
          "name": "stdout"
        }
      ]
    },
    {
      "cell_type": "code",
      "metadata": {
        "id": "fOnLw1E0vTbC"
      },
      "source": [
        "for i in range(1,M+1,1):\n",
        "  fact_M = fact_M*i"
      ],
      "execution_count": null,
      "outputs": []
    },
    {
      "cell_type": "code",
      "metadata": {
        "id": "ICm2FEJsxxw4"
      },
      "source": [
        "vp_conrepWhile = 1\n",
        "while(vp_conrepWhile<=N):\n",
        "  fact_N = fact_N*vp_conrepWhile\n",
        "  vp_conrepWhile = vp_conrepWhile + 1"
      ],
      "execution_count": null,
      "outputs": []
    },
    {
      "cell_type": "code",
      "metadata": {
        "id": "HGq97R45y6kE"
      },
      "source": [
        "vp_difMN = M-N\n",
        "for j in range(1,vp_difMN+1,1):\n",
        "  fact_MN = fact_MN*j"
      ],
      "execution_count": null,
      "outputs": []
    },
    {
      "cell_type": "code",
      "metadata": {
        "id": "qZ9UVXkW0h7O"
      },
      "source": [
        "vps_comb_MN = fact_M/(fact_N*fact_MN)"
      ],
      "execution_count": null,
      "outputs": []
    },
    {
      "cell_type": "code",
      "metadata": {
        "colab": {
          "base_uri": "https://localhost:8080/"
        },
        "id": "xPgxK5HzvjTQ",
        "outputId": "3d176825-ec7d-418b-df54-dafbb74ee554"
      },
      "source": [
        "print(' El factorial de M es: ', fact_M)\n",
        "print(' El factorial de N es: ', fact_N)\n",
        "print(' El factorial de M-N es: ', fact_MN)\n",
        "print(' La combinatoria de M,N es: ', vps_comb_MN)"
      ],
      "execution_count": null,
      "outputs": [
        {
          "output_type": "stream",
          "text": [
            " El factorial de M es:  24\n",
            " El factorial de N es:  2\n",
            " El factorial de M-N es:  2\n",
            " La combinatoria de M,N es:  6.0\n"
          ],
          "name": "stdout"
        }
      ]
    }
  ]
}