{
  "nbformat": 4,
  "nbformat_minor": 0,
  "metadata": {
    "colab": {
      "name": "100 Primeros cuadrados for.ipynb",
      "provenance": []
    },
    "kernelspec": {
      "name": "python3",
      "display_name": "Python 3"
    }
  },
  "cells": [
    {
      "cell_type": "markdown",
      "metadata": {
        "id": "R4KIpCWEm34D"
      },
      "source": [
        "# Programa que calcula la suma del cuadrado de los primeros 100 números enteros\n"
      ]
    },
    {
      "cell_type": "markdown",
      "metadata": {
        "id": "l60o_uGonJvM"
      },
      "source": [
        "# Área de declaración de variables"
      ]
    },
    {
      "cell_type": "code",
      "metadata": {
        "id": "6HIsdiDtnOHI"
      },
      "source": [
        "CuadradoNumero=0\n",
        "AcumuladorSuma=0"
      ],
      "execution_count": null,
      "outputs": []
    },
    {
      "cell_type": "markdown",
      "metadata": {
        "id": "1AnhEngSqHzL"
      },
      "source": [
        "# Entradas"
      ]
    },
    {
      "cell_type": "code",
      "metadata": {
        "colab": {
          "base_uri": "https://localhost:8080/"
        },
        "id": "GXXor8yNqMdy",
        "outputId": "55168a82-c1a2-4976-b3a0-95254d8a4be4"
      },
      "source": [
        "Cantidad_Numeros = int(input(' Cantidad de números: '))"
      ],
      "execution_count": null,
      "outputs": [
        {
          "output_type": "stream",
          "text": [
            " Cantidad de números: 5\n"
          ],
          "name": "stdout"
        }
      ]
    },
    {
      "cell_type": "markdown",
      "metadata": {
        "id": "0WkEKp5PnXRI"
      },
      "source": [
        "# Procesos\n",
        "# Ciclo"
      ]
    },
    {
      "cell_type": "code",
      "metadata": {
        "colab": {
          "base_uri": "https://localhost:8080/"
        },
        "id": "uh_h-f0rnekX",
        "outputId": "549a739e-de9d-4d62-8c77-ffd7a28ffef5"
      },
      "source": [
        "for num in range(Cantidad_Numeros + 1):\n",
        "  CuadradoNumero = num*num\n",
        "  AcumuladorSuma = AcumuladorSuma+CuadradoNumero\n",
        "  print(' El cuadrado de:', num, 'es: ', CuadradoNumero)\n",
        "  print(' La suma acumulada es: ', AcumuladorSuma)\n"
      ],
      "execution_count": null,
      "outputs": [
        {
          "output_type": "stream",
          "text": [
            " El cuadrado de: 0 es:  0\n",
            " La suma acumulada es:  0\n",
            " El cuadrado de: 1 es:  1\n",
            " La suma acumulada es:  1\n",
            " El cuadrado de: 2 es:  4\n",
            " La suma acumulada es:  5\n",
            " El cuadrado de: 3 es:  9\n",
            " La suma acumulada es:  14\n",
            " El cuadrado de: 4 es:  16\n",
            " La suma acumulada es:  30\n",
            " El cuadrado de: 5 es:  25\n",
            " La suma acumulada es:  55\n"
          ],
          "name": "stdout"
        }
      ]
    },
    {
      "cell_type": "code",
      "metadata": {
        "colab": {
          "base_uri": "https://localhost:8080/"
        },
        "id": "SRubP2VQn2wR",
        "outputId": "5a24810e-c00c-4ecb-f0a7-6cae868ef73d"
      },
      "source": [
        "print(' La suma de los cuadrados es: ', AcumuladorSuma)"
      ],
      "execution_count": null,
      "outputs": [
        {
          "output_type": "stream",
          "text": [
            " La suma de los cuadrados es:  55\n"
          ],
          "name": "stdout"
        }
      ]
    }
  ]
}