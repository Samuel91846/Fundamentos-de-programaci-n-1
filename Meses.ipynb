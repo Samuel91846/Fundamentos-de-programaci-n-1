{
  "nbformat": 4,
  "nbformat_minor": 0,
  "metadata": {
    "colab": {
      "name": "Meses.ipynb",
      "provenance": []
    },
    "kernelspec": {
      "name": "python3",
      "display_name": "Python 3"
    },
    "language_info": {
      "name": "python"
    }
  },
  "cells": [
    {
      "cell_type": "code",
      "metadata": {
        "colab": {
          "base_uri": "https://localhost:8080/"
        },
        "id": "7zJQPgDMzjNt",
        "outputId": "2fc40634-bd71-4c4e-a389-c2f4574081a2"
      },
      "source": [
        "m=input('Ingrese el nombre de un mes: ')\n",
        "m=m.lower()\n",
        "mes31={'Enero','Marzo','Mayo','Julio','Agosto','Octubre','Diciembre'}\n",
        "mes30={'Abril','Junio','Septiembre','Noviembre'}\n",
        "while m!='Enero' and m!='Febrero' and m!='Marzo' and m!='Abril' and m!='Mayo' and m!='Junio' and m!='Julio' and m!='Agosto' and m!='Septiembre' and m!='Octubre' and m!='Noviembre' and m!='Diciembre':\n",
        "    m=input('Ingrese el nombre de un mes: ')\n",
        "    m=m.lower()\n",
        "b=input('Si el año es bisiesto presione \"Y\", de lo contrario presione \"N\": ')\n",
        "b=b.lower()\n",
        "while b!='y' and b!='n':\n",
        "    b=input('Si el año es bisiesto presione \"Y\", de lo contrario presione \"N\": ')\n",
        "    b=b.lower()\n",
        "if m=='febrero' and b=='y':\n",
        "    print('En año bisiesto febrero tiene 29 días.')\n",
        "elif m=='febrero' and b=='n':\n",
        "    print('Febrero tiene 28 días.')\n",
        "if m in mes31:\n",
        "    print(m,'tiene 31 días.')\n",
        "elif m in mes30:\n",
        "    print(m,'tiene 30 días.')"
      ],
      "execution_count": null,
      "outputs": [
        {
          "output_type": "stream",
          "text": [
            "Ingrese el nombre de un mes: Marzo\n",
            "Si el año es bisiesto presione \"Y\", de lo contrario presione \"N\": y\n",
            "marzo tiene 31 días.\n"
          ],
          "name": "stdout"
        }
      ]
    }
  ]
}