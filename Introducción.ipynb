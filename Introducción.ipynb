{
  "nbformat": 4,
  "nbformat_minor": 0,
  "metadata": {
    "colab": {
      "name": "Introducción.ipynb",
      "provenance": []
    },
    "kernelspec": {
      "name": "python3",
      "display_name": "Python 3"
    },
    "language_info": {
      "name": "python"
    }
  },
  "cells": [
    {
      "cell_type": "markdown",
      "metadata": {
        "id": "pSSQviLSYVJr"
      },
      "source": [
        "# Operaciones matemáticas\n"
      ]
    },
    {
      "cell_type": "code",
      "metadata": {
        "colab": {
          "base_uri": "https://localhost:8080/"
        },
        "id": "yX4Qb-ZlYLQs",
        "outputId": "a21b4811-d3fa-44ea-ecaf-ba5007ef64e5"
      },
      "source": [
        "#Suma\n",
        "15+6"
      ],
      "execution_count": null,
      "outputs": [
        {
          "output_type": "execute_result",
          "data": {
            "text/plain": [
              "21"
            ]
          },
          "metadata": {
            "tags": []
          },
          "execution_count": 1
        }
      ]
    },
    {
      "cell_type": "code",
      "metadata": {
        "id": "hwHcRfaoYd1i"
      },
      "source": [
        "#Resta\n",
        "30-12"
      ],
      "execution_count": null,
      "outputs": []
    },
    {
      "cell_type": "code",
      "metadata": {
        "id": "j_2HFs4-YfXo"
      },
      "source": [
        "#Multiplicación\n",
        "15*40"
      ],
      "execution_count": null,
      "outputs": []
    },
    {
      "cell_type": "code",
      "metadata": {
        "id": "YNVMCORaYfhe"
      },
      "source": [
        "#División\n",
        "1500//15\n"
      ],
      "execution_count": null,
      "outputs": []
    },
    {
      "cell_type": "code",
      "metadata": {
        "id": "4_lLiw0WYfp3"
      },
      "source": [
        "#Módiulo\n",
        "7%2"
      ],
      "execution_count": null,
      "outputs": []
    }
  ]
}