{
  "nbformat": 4,
  "nbformat_minor": 0,
  "metadata": {
    "colab": {
      "name": "Tabla.ipynb",
      "provenance": []
    },
    "kernelspec": {
      "name": "python3",
      "display_name": "Python 3"
    },
    "language_info": {
      "name": "python"
    }
  },
  "cells": [
    {
      "cell_type": "code",
      "metadata": {
        "colab": {
          "base_uri": "https://localhost:8080/"
        },
        "id": "wDtPOrN0nYe4",
        "outputId": "701957c6-e483-4c94-f4be-a1cfe0e6e283"
      },
      "source": [
        "# Entrada, proceso y salida\n",
        "for i in range(1,4):\n",
        "    for j in range(1,4):\n",
        "      print('{:3}'.format(i*j), end=' ')\n",
        "    print()"
      ],
      "execution_count": 6,
      "outputs": [
        {
          "output_type": "stream",
          "text": [
            "  1   2   3 \n",
            "  2   4   6 \n",
            "  3   6   9 \n"
          ],
          "name": "stdout"
        }
      ]
    }
  ]
}