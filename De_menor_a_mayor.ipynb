{
  "nbformat": 4,
  "nbformat_minor": 0,
  "metadata": {
    "colab": {
      "name": "De menor a mayor.ipynb",
      "provenance": []
    },
    "kernelspec": {
      "name": "python3",
      "display_name": "Python 3"
    },
    "language_info": {
      "name": "python"
    }
  },
  "cells": [
    {
      "cell_type": "code",
      "metadata": {
        "id": "fINxnhpXibWs"
      },
      "source": [
        "# Entradas\n",
        "A = int(input('Ingrese un número entero A... '))\n",
        "B = int(input('Ingrese un número entero B... '))\n",
        "C = int(input('Ingrese un número entero C... '))"
      ],
      "execution_count": null,
      "outputs": []
    },
    {
      "cell_type": "code",
      "metadata": {
        "id": "_KW-drrBjA1V"
      },
      "source": [
        "# Procesos\n",
        "if A>B and A>C:\n",
        "    print(A)\n",
        "    if B>C:\n",
        "        print(B)\n",
        "        print(C)\n",
        "    else:\n",
        "        print(C)\n",
        "        print(B)\n",
        "elif B>A and B>C:\n",
        "    print(B)\n",
        "    if A>C:\n",
        "        print(A)\n",
        "        print(C)\n",
        "    else:\n",
        "        print(C)\n",
        "        print(A)\n",
        "elif C>A and C>B:\n",
        "    print(C)\n",
        "    if A>B:\n",
        "        print(A)\n",
        "        print(B)\n",
        "    else:\n",
        "        print(B)\n",
        "        print(A)"
      ],
      "execution_count": null,
      "outputs": []
    }
  ]
}