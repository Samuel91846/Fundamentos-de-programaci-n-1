{
  "nbformat": 4,
  "nbformat_minor": 0,
  "metadata": {
    "colab": {
      "name": "100 primeros números cuadrados while.ipynb",
      "provenance": []
    },
    "kernelspec": {
      "name": "python3",
      "display_name": "Python 3"
    }
  },
  "cells": [
    {
      "cell_type": "markdown",
      "metadata": {
        "id": "HMgdTBdQrhcI"
      },
      "source": [
        "# Programa que calcula la suma del cuadrado de los primeros 100 números enteros"
      ]
    },
    {
      "cell_type": "markdown",
      "metadata": {
        "id": "HD9SPEmosnYJ"
      },
      "source": [
        "## Ciclo while"
      ]
    },
    {
      "cell_type": "code",
      "metadata": {
        "id": "13gmTKsurFFz"
      },
      "source": [
        "Contador_Repeticiones = 1\n",
        "Contador_Numero = 0\n",
        "Acumulador_Suma = 0"
      ],
      "execution_count": null,
      "outputs": []
    },
    {
      "cell_type": "code",
      "metadata": {
        "colab": {
          "base_uri": "https://localhost:8080/"
        },
        "id": "H3401DhXuhCH",
        "outputId": "9a2d654a-0bdf-478c-f635-8aa082c875c0"
      },
      "source": [
        "Cantidad_Numeros = int(input(' Cantidad de números: '))"
      ],
      "execution_count": null,
      "outputs": [
        {
          "output_type": "stream",
          "text": [
            " Cantidad de números: 4\n"
          ],
          "name": "stdout"
        }
      ]
    },
    {
      "cell_type": "code",
      "metadata": {
        "colab": {
          "base_uri": "https://localhost:8080/"
        },
        "id": "4_gUEZe6s4PW",
        "outputId": "a2a2f591-ad1f-4017-8e8a-e488614c70d0"
      },
      "source": [
        "while Contador_Repeticiones<=5:\n",
        "  Cuadrado_Numero = pow(Contador_Repeticiones,2)\n",
        "  Acumulador_Suma+= Cuadrado_Numero\n",
        "  Contador_Repeticiones = Contador_Repeticiones + 1\n",
        "  print(' El cuadrado de:', Contador_Repeticiones, 'es: ', Cuadrado_Numero)\n",
        "  print(' La suma acumulada es: ', Acumulador_Suma)\n",
        "  Contador_Repeticiones=Contador_Repeticiones+1"
      ],
      "execution_count": null,
      "outputs": [
        {
          "output_type": "stream",
          "text": [
            " El cuadrado de: 3 es:  4\n",
            " La suma acumulada es:  5\n",
            " El cuadrado de: 5 es:  16\n",
            " La suma acumulada es:  21\n"
          ],
          "name": "stdout"
        }
      ]
    },
    {
      "cell_type": "code",
      "metadata": {
        "colab": {
          "base_uri": "https://localhost:8080/"
        },
        "id": "ell0UPeptf9O",
        "outputId": "a180e24e-1b17-46d2-e282-fe89ba4bac1e"
      },
      "source": [
        "print(' La suma de los cuadrados es: ', Acumulador_Suma)"
      ],
      "execution_count": null,
      "outputs": [
        {
          "output_type": "stream",
          "text": [
            " La suma de los cuadrados es:  21\n"
          ],
          "name": "stdout"
        }
      ]
    }
  ]
}