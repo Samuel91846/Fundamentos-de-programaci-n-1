{
  "nbformat": 4,
  "nbformat_minor": 0,
  "metadata": {
    "colab": {
      "name": "Calificaión.ipynb",
      "provenance": []
    },
    "kernelspec": {
      "name": "python3",
      "display_name": "Python 3"
    },
    "language_info": {
      "name": "python"
    }
  },
  "cells": [
    {
      "cell_type": "code",
      "metadata": {
        "id": "zU556E7DO8ng",
        "colab": {
          "base_uri": "https://localhost:8080/"
        },
        "outputId": "7beb2baa-f097-4666-a299-d96b81747479"
      },
      "source": [
        "# Introducción\n",
        "print(' A continuación, se le mostrará qué nota necesita en el exámen supletorio para aprobar... ')"
      ],
      "execution_count": null,
      "outputs": [
        {
          "output_type": "stream",
          "text": [
            " A continuación, se le mostrará qué nota necesita en el exámen supletorio para aprobar... \n"
          ],
          "name": "stdout"
        }
      ]
    },
    {
      "cell_type": "code",
      "metadata": {
        "id": "WxroSiAoQzAy",
        "colab": {
          "base_uri": "https://localhost:8080/"
        },
        "outputId": "fbf863d2-89f1-433e-b7ce-5d662ca89a01"
      },
      "source": [
        "# Registro de datos primer bimestre\n",
        "Notas_PrimerBimestre = int(input(' Ingrese el promedio de sus notas anteriores del primer bimestre, tenga en cuenta lo siguiente: 10 = 1.0 - 50 = 5.0... '))\n",
        "Promedio_NotasPrimerBimestre = Notas_PrimerBimestre/10"
      ],
      "execution_count": null,
      "outputs": [
        {
          "output_type": "stream",
          "text": [
            " Ingrese sus notas anteriores del primer bimestre, tenga en cuenta lo siguiente: 10 = 1.0 - 50 = 5.0. 30\n"
          ],
          "name": "stdout"
        }
      ]
    },
    {
      "cell_type": "code",
      "metadata": {
        "id": "BMBjIvjMRbxS",
        "colab": {
          "base_uri": "https://localhost:8080/"
        },
        "outputId": "0408d1db-8487-496f-9af0-c485a200e9b1"
      },
      "source": [
        "# Registro de datos segundo bimestre\n",
        "Notas_SegundoBimestre = int(input(' Ingrese el promedio de sus notas anteriores del primer bimestre, tenga en cuenta lo siguiente: 10 = 1.0 - 50 = 5.0... '))\n",
        "Promedio_NotasSegundoBimestre = Notas_SegundoBimestre/10"
      ],
      "execution_count": null,
      "outputs": [
        {
          "output_type": "stream",
          "text": [
            " Ingrese el promedio de sus notas anteriores del primer bimestre, tenga en cuenta lo siguiente: 10 = 1.0 - 50 = 5.0. 25\n"
          ],
          "name": "stdout"
        }
      ]
    },
    {
      "cell_type": "code",
      "metadata": {
        "id": "ogMWiCOHSNaK"
      },
      "source": [
        "# Proceso\n",
        "Para_Aprobar = (Promedio_NotasPrimerBimestre + Promedio_NotasSegundoBimestre)\n",
        "ex = 10.5 - Para_Aprobar"
      ],
      "execution_count": null,
      "outputs": []
    },
    {
      "cell_type": "code",
      "metadata": {
        "colab": {
          "base_uri": "https://localhost:8080/"
        },
        "id": "r0wfz0H1Voiq",
        "outputId": "cd4e0f77-8739-4f7b-99d4-0b5d8d3250f2"
      },
      "source": [
        "# Salida\n",
        "print('Para aprobar con 3.5 usted necesita obtener un',round(ex,1),'en el examen supletorio.')"
      ],
      "execution_count": null,
      "outputs": [
        {
          "output_type": "stream",
          "text": [
            "Para aprobar con 3.5 usted necesita obtener un 5.0 en el examen supletorio.\n"
          ],
          "name": "stdout"
        }
      ]
    }
  ]
}