{
  "nbformat": 4,
  "nbformat_minor": 0,
  "metadata": {
    "colab": {
      "name": "IMC.ipynb",
      "provenance": []
    },
    "kernelspec": {
      "name": "python3",
      "display_name": "Python 3"
    },
    "language_info": {
      "name": "python"
    }
  },
  "cells": [
    {
      "cell_type": "code",
      "metadata": {
        "colab": {
          "base_uri": "https://localhost:8080/"
        },
        "id": "4hXn8SEvY2rG",
        "outputId": "7bed16e5-3a77-489c-c398-759e2bc89b61"
      },
      "source": [
        "# Entradas\n",
        "Peso = float(input(' Ingrese su peso en Kg... '))\n",
        "Estatura = float(input(' Ingrese su estatura en cm... '))"
      ],
      "execution_count": null,
      "outputs": [
        {
          "output_type": "stream",
          "text": [
            " Ingrese su peso en Kg... 95\n",
            " Ingrese su estatura en cm... 175\n"
          ],
          "name": "stdout"
        }
      ]
    },
    {
      "cell_type": "code",
      "metadata": {
        "id": "payCGDi-Y-NJ"
      },
      "source": [
        "# Procesos\n",
        "IMC = Peso/(Estatura/100)**2"
      ],
      "execution_count": null,
      "outputs": []
    },
    {
      "cell_type": "code",
      "metadata": {
        "colab": {
          "base_uri": "https://localhost:8080/"
        },
        "id": "PMdTv5EzZAZ6",
        "outputId": "602e63a7-4573-46d1-ba39-4409de6f176d"
      },
      "source": [
        "# Salidas\n",
        "print(' Su IMC es... ', IMC)"
      ],
      "execution_count": null,
      "outputs": [
        {
          "output_type": "stream",
          "text": [
            " Su IMC es...  31.020408163265305\n"
          ],
          "name": "stdout"
        }
      ]
    }
  ]
}