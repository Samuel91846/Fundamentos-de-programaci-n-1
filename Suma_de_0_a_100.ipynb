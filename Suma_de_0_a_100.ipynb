{
  "nbformat": 4,
  "nbformat_minor": 0,
  "metadata": {
    "colab": {
      "name": "Suma de 0 a 100.ipynb",
      "provenance": []
    },
    "kernelspec": {
      "name": "python3",
      "display_name": "Python 3"
    },
    "language_info": {
      "name": "python"
    }
  },
  "cells": [
    {
      "cell_type": "code",
      "metadata": {
        "id": "2erVzTnKUlnR"
      },
      "source": [
        "# Entradas\n",
        "Lista = list(range(0,101))\n",
        "Números = 0"
      ],
      "execution_count": null,
      "outputs": []
    },
    {
      "cell_type": "code",
      "metadata": {
        "colab": {
          "base_uri": "https://localhost:8080/"
        },
        "id": "62Z9fdoqVG2c",
        "outputId": "3e6b2d06-9f47-40af-8504-b48ec6548e4d"
      },
      "source": [
        "# Procesos for\n",
        "for i in Lista:\n",
        "    Números = i+Números\n",
        "# Salida for\n",
        "print(' Usando \"for\" ')\n",
        "print('El resultado de la suma de 0 a 100 es... ', Números)\n",
        "# Procesos while\n",
        "Números = 0\n",
        "i=0\n",
        "while i in Lista:\n",
        "    Números = i+Números\n",
        "    i=i+1\n",
        "# Salida while\n",
        "print('Usando \"while\".')\n",
        "print('El resultado de la suma de 0 a 100 es... ', Números)"
      ],
      "execution_count": null,
      "outputs": [
        {
          "output_type": "stream",
          "text": [
            " Usando \"for\" \n",
            "El resultado de la suma de 0 a 100 es...  5050\n",
            "Usando \"while\".\n",
            "El resultado de la suma de 0 a 100 es...  5050\n"
          ],
          "name": "stdout"
        }
      ]
    }
  ]
}