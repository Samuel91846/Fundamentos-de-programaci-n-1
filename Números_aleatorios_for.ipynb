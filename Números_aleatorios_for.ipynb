{
  "nbformat": 4,
  "nbformat_minor": 0,
  "metadata": {
    "colab": {
      "name": "Números aleatorios for.ipynb",
      "provenance": [],
      "collapsed_sections": []
    },
    "kernelspec": {
      "name": "python3",
      "display_name": "Python 3"
    }
  },
  "cells": [
    {
      "cell_type": "markdown",
      "metadata": {
        "id": "IPEMg9UDZSMc"
      },
      "source": [
        "# Números aleatorios"
      ]
    },
    {
      "cell_type": "code",
      "metadata": {
        "id": "hR7PzayzYZBC"
      },
      "source": [
        "import random"
      ],
      "execution_count": null,
      "outputs": []
    },
    {
      "cell_type": "markdown",
      "metadata": {
        "id": "NwDepc1LajwR"
      },
      "source": [
        "## Área de declaración de variables"
      ]
    },
    {
      "cell_type": "code",
      "metadata": {
        "id": "kyG_sPlzal3M"
      },
      "source": [
        "N = random.randint(-100, 100)\n",
        "SP = 0\n",
        "SN = 0\n",
        "STN = 0\n",
        "PMN = 0\n",
        "PMP = 0\n",
        "NN = 0\n",
        "NP = 0\n",
        "Min_N = -100\n",
        "May_N = 0\n",
        "May_P = 0\n",
        "Min_P = 100\n",
        "ST = 0"
      ],
      "execution_count": null,
      "outputs": []
    },
    {
      "cell_type": "markdown",
      "metadata": {
        "id": "478lQXLJbYkN"
      },
      "source": [
        "## Entradas\n"
      ]
    },
    {
      "cell_type": "code",
      "metadata": {
        "colab": {
          "base_uri": "https://localhost:8080/"
        },
        "id": "pH-WeiO_bX6g",
        "outputId": "6a3b6b5d-699d-42bf-e041-fe2489cb9038"
      },
      "source": [
        "Cantidad_Numeros = int(input(' Cantidad de números: '))"
      ],
      "execution_count": null,
      "outputs": [
        {
          "output_type": "stream",
          "text": [
            " Cantidad de números: 10\n"
          ],
          "name": "stdout"
        }
      ]
    },
    {
      "cell_type": "markdown",
      "metadata": {
        "id": "6PPOf5l0bnRC"
      },
      "source": [
        "## Ciclo"
      ]
    },
    {
      "cell_type": "code",
      "metadata": {
        "id": "tSPsmq9cb-hl",
        "colab": {
          "base_uri": "https://localhost:8080/"
        },
        "outputId": "87caeb06-b042-43a5-cc0a-1be525e010e8"
      },
      "source": [
        "for x in range(1,Cantidad_Numeros+1):\n",
        "  N = random.randint(-100, 100)\n",
        "  ST = N + ST\n",
        "  print(N)\n",
        "  if N<=May_N:\n",
        "    May_N = N\n",
        "  if N>=May_P:\n",
        "    May_P = N\n",
        "  if N<=Min_N and N<0:\n",
        "    Min_N = N\n",
        "  if N<=Min_P and N>0:\n",
        "    Min_P = N\n",
        "  if N<0:\n",
        "    SN = SN + N\n",
        "    NN = NN + 1\n",
        "  if N>0:\n",
        "    SP = SP + N\n",
        "    NP = NP + 1"
      ],
      "execution_count": null,
      "outputs": [
        {
          "output_type": "stream",
          "text": [
            "78\n",
            "-17\n",
            "-41\n",
            "-32\n",
            "-32\n",
            "-44\n",
            "-100\n",
            "-33\n",
            "16\n",
            "-44\n"
          ],
          "name": "stdout"
        }
      ]
    },
    {
      "cell_type": "code",
      "metadata": {
        "id": "LaBcm8Dnp_Dd"
      },
      "source": [
        "PMP = (SP/NP)\n",
        "PMN = (SN/NN)\n",
        "PMT = (ST/100)"
      ],
      "execution_count": null,
      "outputs": []
    },
    {
      "cell_type": "code",
      "metadata": {
        "colab": {
          "base_uri": "https://localhost:8080/"
        },
        "id": "KwjP6f-Slw-g",
        "outputId": "68f640b7-4d10-4216-849d-7476a2ea3b58"
      },
      "source": [
        "print(' La suma de los números negativos es: ', SN)\n",
        "print(' La suma de los números positivos es: ', SP)\n",
        "print(' La cantidad de números positivos es: ', NP)\n",
        "print(' La cantidad de números negativos es: ', NN)\n",
        "print(' El promedio de los números positivos es: ', round(PMP,2))\n",
        "print(' EL promedio de los números negativos es: ', round(PMN,2))\n",
        "print(' El promedio de todos los números es: ', PMT)\n",
        "print(' El número mayor negativo es: ', May_N)\n",
        "print(' El número mayor positivo es: ', May_P)\n",
        "print(' El número menor negativo es: ', Min_N)\n",
        "print(' El número menor positivo es: ', Min_P)"
      ],
      "execution_count": null,
      "outputs": [
        {
          "output_type": "stream",
          "text": [
            " La suma de los números negativos es:  -343\n",
            " La suma de los números positivos es:  94\n",
            " La cantidad de números positivos es:  2\n",
            " La cantidad de números negativos es:  8\n",
            " El promedio de los números positivos es:  47.0\n",
            " EL promedio de los números negativos es:  -42.88\n",
            " El promedio de todos los números es:  -2.49\n",
            " El número mayor negativo es:  -100\n",
            " El número mayor positivo es:  78\n",
            " El número menor negativo es:  -100\n",
            " El número menor positivo es:  16\n"
          ],
          "name": "stdout"
        }
      ]
    }
  ]
}