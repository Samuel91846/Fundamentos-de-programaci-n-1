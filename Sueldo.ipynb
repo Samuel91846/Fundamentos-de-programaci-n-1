{
  "nbformat": 4,
  "nbformat_minor": 0,
  "metadata": {
    "colab": {
      "name": "Sueldo.ipynb",
      "provenance": []
    },
    "kernelspec": {
      "name": "python3",
      "display_name": "Python 3"
    },
    "language_info": {
      "name": "python"
    }
  },
  "cells": [
    {
      "cell_type": "code",
      "metadata": {
        "colab": {
          "base_uri": "https://localhost:8080/"
        },
        "id": "l7WWBZSQobjY",
        "outputId": "56769109-05f5-458f-c0ab-6a17fbf744ae"
      },
      "source": [
        "# Entrada\n",
        "B = None\n",
        "Horas = int(input(' Ingrese el número de horas trabajadas en un día: '))\n",
        "Valor_Pagado = int(input(' Ingrese el valor pagado en dólares por hora que realiza de trabajo: '))"
      ],
      "execution_count": 13,
      "outputs": [
        {
          "output_type": "stream",
          "text": [
            " Ingrese el número de horas trabajadas en un día: 5\n",
            " Ingrese el valor pagado en dólares por hora que realiza de trabajo: 422\n"
          ],
          "name": "stdout"
        }
      ]
    },
    {
      "cell_type": "code",
      "metadata": {
        "id": "5sYhpXFDpWCQ"
      },
      "source": [
        "# Proceso\n",
        "IMPH = Horas*6*4\n",
        "Salario = IMPH*Valor_Pagado\n",
        "if Salario<300:\n",
        "    B = 2\n",
        "else:\n",
        "    B = 0\n",
        "Seguridad_Social = ((Salario/100)*8)\n",
        "Bono = ((Salario/100)*B)\n",
        "Sueldo_Total = (Salario-Seguridad_Social)+Bono"
      ],
      "execution_count": 20,
      "outputs": []
    },
    {
      "cell_type": "code",
      "metadata": {
        "colab": {
          "base_uri": "https://localhost:8080/"
        },
        "id": "I2Wabi5lpXj8",
        "outputId": "cced75c1-6f1e-4249-c6a8-b63ee8ee3fab"
      },
      "source": [
        "# Salida\n",
        "if Salario<300:\n",
        "    print(' Su pago por seguridad social es... $',Seguridad_Social,' dólares.')\n",
        "    print(' Por tener un salario menor a $ 300 dólares, se le otorgará un... $',Bono,' como bonificación.')\n",
        "    print(' Tomando en cuenta su salario, el bono y la seguridad social, su sueldo mensual es... $',Sueldo_Total,' dólares.')\n",
        "elif Salario>=300:\n",
        "    print(' Su pago por seguridad social es... $',Seguridad_Social,' dólares.')\n",
        "    print(' Tomando en cuenta su salario y la seguridad social, su sueldo mensual es... $',Sueldo_Total,' dólares.')"
      ],
      "execution_count": 21,
      "outputs": [
        {
          "output_type": "stream",
          "text": [
            "Su pago por seguridad social es equivalente a $ 4051.2 dólares.\n",
            "Sumando lo anterior, su sueldo mensual es de: $ 46588.8 dólares.\n"
          ],
          "name": "stdout"
        }
      ]
    }
  ]
}