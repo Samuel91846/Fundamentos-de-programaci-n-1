{
  "nbformat": 4,
  "nbformat_minor": 0,
  "metadata": {
    "colab": {
      "name": "Untitled1.ipynb",
      "provenance": []
    },
    "kernelspec": {
      "name": "python3",
      "display_name": "Python 3"
    }
  },
  "cells": [
    {
      "cell_type": "code",
      "metadata": {
        "colab": {
          "base_uri": "https://localhost:8080/"
        },
        "id": "o7rY4ohN2nns",
        "outputId": "eda1b895-b97b-46aa-a870-b08412fe394a"
      },
      "source": [
        "import numpy as np\n",
        "A = np.array ([[3, -1, 4],[2, 5, -7],[4, 0, 9]])\n",
        "A_Transpuesta = A.T\n",
        "print(A_Transpuesta)"
      ],
      "execution_count": null,
      "outputs": [
        {
          "output_type": "stream",
          "text": [
            "[[ 3  2  4]\n",
            " [-1  5  0]\n",
            " [ 4 -7  9]]\n"
          ],
          "name": "stdout"
        }
      ]
    },
    {
      "cell_type": "code",
      "metadata": {
        "colab": {
          "base_uri": "https://localhost:8080/"
        },
        "id": "8Cd_OOUj5tEW",
        "outputId": "a7f4d14a-ee2f-465c-f2a8-bd78be4e7ecc"
      },
      "source": [
        "import numpy as np\n",
        "A = np.array ([[1, 1, -1],[1, 2, 3],[1, 3, 4]])\n",
        "A_inv = np.linalg.inv(A)\n",
        "\n",
        "print(A.dot(A_inv))"
      ],
      "execution_count": null,
      "outputs": [
        {
          "output_type": "stream",
          "text": [
            "[[ 1.00000000e+00 -1.11022302e-16  5.55111512e-17]\n",
            " [ 5.55111512e-17  1.00000000e+00  5.55111512e-17]\n",
            " [ 0.00000000e+00  0.00000000e+00  1.00000000e+00]]\n"
          ],
          "name": "stdout"
        }
      ]
    }
  ]
}