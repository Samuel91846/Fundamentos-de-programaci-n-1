{
  "nbformat": 4,
  "nbformat_minor": 0,
  "metadata": {
    "colab": {
      "name": "Velocidad.ipynb",
      "provenance": []
    },
    "kernelspec": {
      "name": "python3",
      "display_name": "Python 3"
    },
    "language_info": {
      "name": "python"
    }
  },
  "cells": [
    {
      "cell_type": "code",
      "metadata": {
        "colab": {
          "base_uri": "https://localhost:8080/"
        },
        "id": "wc0W2m-bXO31",
        "outputId": "fcef0367-fac6-4572-c533-05ada900aa9b"
      },
      "source": [
        "# Entradas\n",
        "Distancia = float(input(' Indique la distancia en Km que recorrerá el vehículo... '))\n",
        "Tiempo = float(input(' Ingrese el tiempo en horas que tardará el vehículo para dicha distancia...  '))"
      ],
      "execution_count": null,
      "outputs": [
        {
          "output_type": "stream",
          "text": [
            " Indique la distancia en Km que recorrerá el vehículo... 30\n",
            " Ingrese el tiempo en horas que tardará el vehículo para dicha distancia...  2\n"
          ],
          "name": "stdout"
        }
      ]
    },
    {
      "cell_type": "code",
      "metadata": {
        "id": "QQdLJZd1XY6f"
      },
      "source": [
        "# Procesos\n",
        "Velocidad = Distancia/Tiempo"
      ],
      "execution_count": null,
      "outputs": []
    },
    {
      "cell_type": "code",
      "metadata": {
        "colab": {
          "base_uri": "https://localhost:8080/"
        },
        "id": "K9CrYXhzXaX5",
        "outputId": "45f21710-247b-4c23-994e-9ffff2a20a94"
      },
      "source": [
        "# Salida\n",
        "print(' El vehículo deberá ir a una velocidad de...',round(Velocidad,3),'Km/h')"
      ],
      "execution_count": null,
      "outputs": [
        {
          "output_type": "stream",
          "text": [
            " El vehículo deberá ir a una velocidad de... 15.0 Km/h\n"
          ],
          "name": "stdout"
        }
      ]
    }
  ]
}